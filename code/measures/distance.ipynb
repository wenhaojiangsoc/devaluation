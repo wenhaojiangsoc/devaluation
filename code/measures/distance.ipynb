{
 "cells": [
  {
   "cell_type": "code",
   "execution_count": 3,
   "id": "3a6b4519-9c35-4a2b-ad36-79ea2eb8314e",
   "metadata": {},
   "outputs": [],
   "source": [
    "import pandas as pd\n",
    "import numpy as np\n",
    "from sklearn.preprocessing import normalize\n",
    "from itertools import chain\n",
    "import matplotlib.pyplot as plt\n",
    "import warnings\n",
    "from sklearn.manifold import TSNE\n",
    "import seaborn as sns\n",
    "import random\n",
    "import os\n",
    "warnings.filterwarnings(\"ignore\")"
   ]
  },
  {
   "cell_type": "markdown",
   "id": "293c0d9b",
   "metadata": {},
   "source": [
    "## Read Data and Functions"
   ]
  },
  {
   "cell_type": "code",
   "execution_count": null,
   "id": "7f2369e2-5c17-4bb4-a205-8be6757d72ff",
   "metadata": {},
   "outputs": [],
   "source": [
    "## read occupation and map\n",
    "occ = pd.read_csv(\"devaluation-main/data/dimension and mapping/occupation_map.csv\")\n",
    "occ = occ[['Occupation, 1950 basis','Single words']]\n",
    "occ = occ.loc[occ['Single words'].notna()].reset_index(drop=True)"
   ]
  },
  {
   "cell_type": "code",
   "execution_count": null,
   "id": "82421689-1dc5-4c1e-96d0-04a6b63eccc1",
   "metadata": {},
   "outputs": [],
   "source": [
    "## read embeddings from class\n",
    "os.chdir('devaluation-main/code/measures')\n",
    "%run embeddings.py\n",
    "%run 3CosAdd.py"
   ]
  },
  {
   "cell_type": "markdown",
   "id": "ce742f7e",
   "metadata": {},
   "source": [
    "## Generate Embedding-based Cultural Measures"
   ]
  },
  {
   "cell_type": "markdown",
   "id": "2cfa35e2-37d0-4775-b842-d0fde64cdff6",
   "metadata": {},
   "source": [
    "### Ngram"
   ]
  },
  {
   "cell_type": "code",
   "execution_count": null,
   "id": "9560d81e-7856-4833-803f-7c97a7945754",
   "metadata": {},
   "outputs": [],
   "source": [
    "## get centroid difference\n",
    "data = pd.DataFrame()\n",
    "os.chdir('directory of your Ngram embeddings')\n",
    "\n",
    "## iterate over years\n",
    "for year in range(1900,2010,10):\n",
    "    \n",
    "    ## load embeddings from a given year\n",
    "    embeddings = Embeddings.from_file(year,self_train=True)\n",
    "    \n",
    "    ## index embeddings by a list\n",
    "    occupation = occ[\"Single words\"]\n",
    "    \n",
    "    ## load dimension words\n",
    "    dimension = load_dimension(\"devaluation-main/data/dimension and mapping/dimension-words.txt\")\n",
    "    \n",
    "    ## assign distances\n",
    "    occ['year'] = year\n",
    "    occ['gender'] = cosine_sim_average(get_dimension(embeddings,dimension,category = \"gender\"),embeddings,occupation)\n",
    "    occ['prestige'] = cosine_sim_average(get_dimension(embeddings,dimension,category = \"prestige\"),embeddings,occupation)\n",
    "    occ['education'] = cosine_sim_average(get_dimension(embeddings,dimension,category = \"education\"),embeddings,occupation)\n",
    "    occ['income'] = cosine_sim_average(get_dimension(embeddings,dimension,category = \"income\"),embeddings,occupation)\n",
    "    occ['evaluation'] = cosine_sim_average(get_dimension(embeddings,dimension,category = \"evaluation\"),embeddings,occupation)\n",
    "    occ['potency'] = cosine_sim_average(get_dimension(embeddings,dimension,category = \"potency\"),embeddings,occupation)\n",
    "    occ['activity'] = cosine_sim_average(get_dimension(embeddings,dimension,category = \"activity\"),embeddings,occupation)\n",
    "    data = data.append(occ)\n",
    "    \n",
    "    ## monitor progress\n",
    "    print(str(year) + \" is done!\")"
   ]
  },
  {
   "cell_type": "code",
   "execution_count": null,
   "id": "f431b15c-64dc-45de-9725-eb88f9018449",
   "metadata": {},
   "outputs": [],
   "source": [
    "## save results\n",
    "os.chdir('devaluation-main/data/census and merged')\n",
    "data.to_csv(\"ngram.csv\", index=False)"
   ]
  },
  {
   "cell_type": "markdown",
   "id": "262f8e83-9414-4b09-a817-cd2483aed351",
   "metadata": {},
   "source": [
    "### COCHA"
   ]
  },
  {
   "cell_type": "code",
   "execution_count": null,
   "id": "b911424d-470e-42aa-9535-91c3e67ed73d",
   "metadata": {},
   "outputs": [],
   "source": [
    "## get centroid difference\n",
    "data = pd.DataFrame()\n",
    "os.chdir('directory of your COCHA embeddings')\n",
    "\n",
    "## iterate over years\n",
    "for year in range(1900,2020,10):\n",
    "    \n",
    "    ## load embeddings from a given year\n",
    "    embeddings = Embeddings.from_file(year,self_train=True)\n",
    "    \n",
    "    ## index embeddings by a list\n",
    "    occupation = occ[\"Single words\"]\n",
    "    \n",
    "    ## load dimension words\n",
    "    dimension = load_dimension(\"devaluation-main/data/dimension and mapping/dimension-words.txt\")\n",
    "    \n",
    "    ## assign distances\n",
    "    occ['year'] = year\n",
    "    occ['gender'] = cosine_sim_average(get_dimension(embeddings,dimension,category = \"gender\"),embeddings,occupation)\n",
    "    occ['prestige'] = cosine_sim_average(get_dimension(embeddings,dimension,category = \"prestige\"),embeddings,occupation)\n",
    "    occ['education'] = cosine_sim_average(get_dimension(embeddings,dimension,category = \"education\"),embeddings,occupation)\n",
    "    occ['income'] = cosine_sim_average(get_dimension(embeddings,dimension,category = \"income\"),embeddings,occupation)\n",
    "    occ['evaluation'] = cosine_sim_average(get_dimension(embeddings,dimension,category = \"evaluation\"),embeddings,occupation)\n",
    "    occ['potency'] = cosine_sim_average(get_dimension(embeddings,dimension,category = \"potency\"),embeddings,occupation)\n",
    "    occ['activity'] = cosine_sim_average(get_dimension(embeddings,dimension,category = \"activity\"),embeddings,occupation)\n",
    "    data = data.append(occ)\n",
    "    \n",
    "    ## monitor progress\n",
    "    print(str(year) + \" is done!\")"
   ]
  },
  {
   "cell_type": "code",
   "execution_count": null,
   "id": "1073dc08-39b5-4538-a1f6-d981e6f683db",
   "metadata": {},
   "outputs": [],
   "source": [
    "## save results\n",
    "os.chdir('devaluation-main/data/census and merged')\n",
    "data.to_csv(\"COCHA.csv\", index=False)"
   ]
  },
  {
   "cell_type": "markdown",
   "id": "479aa087-71eb-4544-a5ed-8f9ff6b7964d",
   "metadata": {},
   "source": [
    "### t-SNE Visualization"
   ]
  },
  {
   "cell_type": "code",
   "execution_count": null,
   "id": "1269335d-17f2-4ae5-bbd4-129ffdca68f9",
   "metadata": {},
   "outputs": [],
   "source": [
    "## read data\n",
    "os.chdir('directory of your Ngram embeddings')\n",
    "embeddings = Embeddings.from_file(2000,self_train=True)\n",
    "occupation = occ[\"Single words\"]\n",
    "category = pd.read_csv('devaluation-main/data/miscellaneous/occ_category.csv')"
   ]
  },
  {
   "cell_type": "code",
   "execution_count": null,
   "id": "b072d624-ecc6-4b4b-9509-286356da7c78",
   "metadata": {},
   "outputs": [],
   "source": [
    "## merge category with the main occupation list\n",
    "category = category.loc[category.category.notna()]\n",
    "category = category.drop_duplicates(\"occupation_single\")\n",
    "category = pd.merge(pd.DataFrame(occ[\"Single words\"]),category,right_on=\"occupation_single\",left_on=\"Single words\",how=\"left\")"
   ]
  },
  {
   "cell_type": "code",
   "execution_count": null,
   "id": "4c1da42f-dbb3-4b5b-951d-d9e26f872ae0",
   "metadata": {},
   "outputs": [],
   "source": [
    "## load embeddings for the occupations\n",
    "occupation_1 = occupation.str.split(\", \",expand=True)[0]\n",
    "occupation_2 = occupation.str.split(\", \",expand=True)[1]\n",
    "occupation_3 = occupation.str.split(\", \",expand=True)[2]\n",
    "occupation_4 = occupation.str.split(\", \",expand=True)[3]\n",
    "occupation = np.array([embeddings[occupation_1],embeddings[occupation_2],embeddings[occupation_3],embeddings[occupation_4]])\n",
    "occupation = np.nanmean(occupation,axis=0)"
   ]
  },
  {
   "cell_type": "code",
   "execution_count": null,
   "id": "bcf6f9b8-ec8b-491e-9b7d-ecca079d85fb",
   "metadata": {},
   "outputs": [],
   "source": [
    "## some cleanings\n",
    "occupation_single = category['occupation_single'][np.isnan(occupation).sum(axis=1)==0]\n",
    "occupation_origin = category['occupation_origin'][np.isnan(occupation).sum(axis=1)==0]\n",
    "category = category['category'][np.isnan(occupation).sum(axis=1)==0]\n",
    "occupation = occupation[np.isnan(occupation).sum(axis=1)==0]\n",
    "occupation = occupation[~category.isna()]\n",
    "occupation_origin = occupation_origin[~category.isna()]\n",
    "occupation_single = occupation_single[~category.isna()]\n",
    "category = category[~category.isna()]"
   ]
  },
  {
   "cell_type": "code",
   "execution_count": null,
   "id": "5859ae98-3dab-4afc-abe9-e07a2607b906",
   "metadata": {},
   "outputs": [],
   "source": [
    "## create tSNE measures on two dimensions\n",
    "n_components = 2\n",
    "tsne = TSNE(n_components,perplexity=10,random_state=2023)\n",
    "tsne_result = tsne.fit_transform(occupation)\n",
    "tsne_result.shape\n",
    "tsne_result_df_2000 = pd.DataFrame({'tsne_1': tsne_result[:,0], 'tsne_2': tsne_result[:,1], \n",
    "                                    'label': category, 'occupation_origin': occupation_origin,\n",
    "                                    'occupation_single': occupation_single})"
   ]
  },
  {
   "cell_type": "code",
   "execution_count": null,
   "id": "37640b00-ddd5-48a9-acee-1dfe9ce715e5",
   "metadata": {},
   "outputs": [],
   "source": [
    "## output `tsne_result_df_2000` should be saved in a \n",
    "## csv file with the two dimensions to be plotted in a scatter plot with labels"
   ]
  },
  {
   "cell_type": "markdown",
   "id": "b83630af-ce56-4105-abf2-0afbd7006bc1",
   "metadata": {},
   "source": [
    "### 3CosAdd Validation"
   ]
  },
  {
   "cell_type": "code",
   "execution_count": null,
   "id": "b3595bc7-a1bb-40f8-a105-e6cccbd1a66a",
   "metadata": {},
   "outputs": [],
   "source": [
    "os.chdir('directory of your Ngram embeddings')\n",
    "\n",
    "## load embeddings from a given year\n",
    "embeddings = Embeddings.from_file(2000,self_train=True)"
   ]
  },
  {
   "cell_type": "code",
   "execution_count": 262,
   "id": "8b7fe8ad-a877-44bd-84df-a33003faefe0",
   "metadata": {},
   "outputs": [
    {
     "name": "stdout",
     "output_type": "stream",
     "text": [
      "[['doctor', 'gynecologist', 'nurse', 'physician']]\n"
     ]
    }
   ],
   "source": [
    "# Find the neighbors of doctor - gender\n",
    "vecs = embeddings[\"doctor\",\"man\",\"woman\"]\n",
    "print(get_closest_words(embeddings, vecs[0:1] - vecs[1:2] + vecs[2:3], k=4))"
   ]
  },
  {
   "cell_type": "markdown",
   "id": "b7081985-dac3-4378-99d9-e9766eca47a0",
   "metadata": {},
   "source": [
    "## Measures with Weights Proportional to Occupation Occurrences"
   ]
  },
  {
   "cell_type": "markdown",
   "id": "23eba854",
   "metadata": {},
   "source": [
    "### Ngram"
   ]
  },
  {
   "cell_type": "code",
   "execution_count": 69,
   "id": "6c4001b7-317c-4837-a8bf-fc5c1e94c91d",
   "metadata": {},
   "outputs": [],
   "source": [
    "import requests\n",
    "import json\n",
    "from tqdm import tqdm\n",
    "import time\n",
    "from statistics import mode"
   ]
  },
  {
   "cell_type": "code",
   "execution_count": null,
   "id": "52a47c04-e721-4a0e-a0a8-b989a610aaac",
   "metadata": {},
   "outputs": [],
   "source": [
    "## calculate weights in 2000-2009\n",
    "occupation = occ[\"Single words\"]\n",
    "occupation_1 = occupation.str.split(\", \",expand=True)[0]\n",
    "occupation_2 = occupation.str.split(\", \",expand=True)[1]\n",
    "occupation_3 = occupation.str.split(\", \",expand=True)[2]\n",
    "occupation_4 = occupation.str.split(\", \",expand=True)[3]\n",
    "weight_1 = []\n",
    "weight_2 = []\n",
    "weight_3 = []\n",
    "weight_4 = []\n",
    "for i in tqdm(range(len(occupation_1))):\n",
    "    weight_1.append(occ_freq(occupation_1[i],2000,2009))\n",
    "for i in tqdm(range(len(occupation_2))):\n",
    "    weight_2.append(occ_freq(occupation_2[i],2000,2009))\n",
    "for i in tqdm(range(len(occupation_3))):\n",
    "    weight_3.append(occ_freq(occupation_3[i],2000,2009))\n",
    "for i in tqdm(range(len(occupation_4))):\n",
    "    weight_4.append(occ_freq(occupation_4[i],2000,2009))"
   ]
  },
  {
   "cell_type": "code",
   "execution_count": null,
   "id": "7c7d4e20-5db9-4af2-abe3-1ba3d0cb9f6f",
   "metadata": {},
   "outputs": [],
   "source": [
    "## get centroid difference\n",
    "data = pd.DataFrame()\n",
    "os.chdir('directory of your Ngram embeddings')\n",
    "\n",
    "## iterate over years\n",
    "for year in range(1900,2010,10):\n",
    "    \n",
    "    ## load embeddings from a given year\n",
    "    embeddings = Embeddings.from_file(year,self_train=True)\n",
    "    \n",
    "    ## index embeddings by a list\n",
    "    occupation = occ[\"Single words\"]\n",
    "    \n",
    "    ## load dimension words\n",
    "    dimension = load_dimension(\"devaluation-main/data/dimension and mapping/dimension-words.txt\")\n",
    "    \n",
    "    ## assign distances\n",
    "    occ['year'] = year\n",
    "    occ['gender'] = cosine_sim_average_weight(get_dimension(embeddings,dimension,category = \"gender\"),embeddings,occupation,weight_1,weight_2,weight_3,weight_4)\n",
    "    occ['prestige'] = cosine_sim_average_weight(get_dimension(embeddings,dimension,category = \"prestige\"),embeddings,occupation,weight_1,weight_2,weight_3,weight_4)\n",
    "    occ['education'] = cosine_sim_average_weight(get_dimension(embeddings,dimension,category = \"education\"),embeddings,occupation,weight_1,weight_2,weight_3,weight_4)\n",
    "    occ['income'] = cosine_sim_average_weight(get_dimension(embeddings,dimension,category = \"income\"),embeddings,occupation,weight_1,weight_2,weight_3,weight_4)\n",
    "    occ['evaluation'] = cosine_sim_average_weight(get_dimension(embeddings,dimension,category = \"evaluation\"),embeddings,occupation,weight_1,weight_2,weight_3,weight_4)\n",
    "    occ['potency'] = cosine_sim_average_weight(get_dimension(embeddings,dimension,category = \"potency\"),embeddings,occupation,weight_1,weight_2,weight_3,weight_4)\n",
    "    occ['activity'] = cosine_sim_average_weight(get_dimension(embeddings,dimension,category = \"activity\"),embeddings,occupation,weight_1,weight_2,weight_3,weight_4)\n",
    "    data = data.append(occ)\n",
    "    \n",
    "    ## monitor progress\n",
    "    print(str(year) + \" is done!\")"
   ]
  },
  {
   "cell_type": "code",
   "execution_count": null,
   "id": "38790650-2f87-4ba0-8816-e0655f70eb91",
   "metadata": {},
   "outputs": [],
   "source": [
    "os.chdir('devaluation-main/data/census and merged')\n",
    "data.to_csv(\"ngram_weight.csv\", index=False)"
   ]
  }
 ],
 "metadata": {
  "kernelspec": {
   "display_name": "Python 3",
   "language": "python",
   "name": "python3"
  },
  "language_info": {
   "codemirror_mode": {
    "name": "ipython",
    "version": 3
   },
   "file_extension": ".py",
   "mimetype": "text/x-python",
   "name": "python",
   "nbconvert_exporter": "python",
   "pygments_lexer": "ipython3",
   "version": "3.9.12"
  }
 },
 "nbformat": 4,
 "nbformat_minor": 5
}
